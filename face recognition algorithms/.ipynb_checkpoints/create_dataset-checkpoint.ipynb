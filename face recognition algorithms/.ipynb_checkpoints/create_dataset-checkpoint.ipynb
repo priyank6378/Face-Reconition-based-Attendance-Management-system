{
 "cells": [
  {
   "cell_type": "code",
   "execution_count": 17,
   "id": "e96dbd49",
   "metadata": {},
   "outputs": [],
   "source": [
    "import os\n",
    "import cv2\n",
    "import matplotlib.pyplot as plt"
   ]
  },
  {
   "cell_type": "code",
   "execution_count": 24,
   "id": "7bffb67d",
   "metadata": {},
   "outputs": [],
   "source": [
    "def make_datase():\n",
    "    base_dir = r\"E:\\semester 5\\mini project\\archive\\cropped_images\"\n",
    "    training_images_dir = [base_dir+'\\\\'+name for name in os.listdir(base_dir)]\n",
    "    names = {}\n",
    "    i = 0\n",
    "    for p in os.listdir(base_dir):\n",
    "        names[p] = i\n",
    "        i+=1\n",
    "\n",
    "    X = []\n",
    "    y = []\n",
    "    for person_dir in training_images_dir:\n",
    "        for img in os.listdir(person_dir):\n",
    "            X.append(cv2.imread(person_dir+'\\\\'+img))\n",
    "            y.append(names[person_dir.split('\\\\')[-1]])\n",
    "    return X,y"
   ]
  },
  {
   "cell_type": "code",
   "execution_count": null,
   "id": "96424f5c",
   "metadata": {},
   "outputs": [],
   "source": []
  }
 ],
 "metadata": {
  "kernelspec": {
   "display_name": "Python 3 (ipykernel)",
   "language": "python",
   "name": "python3"
  },
  "language_info": {
   "codemirror_mode": {
    "name": "ipython",
    "version": 3
   },
   "file_extension": ".py",
   "mimetype": "text/x-python",
   "name": "python",
   "nbconvert_exporter": "python",
   "pygments_lexer": "ipython3",
   "version": "3.9.13"
  }
 },
 "nbformat": 4,
 "nbformat_minor": 5
}
