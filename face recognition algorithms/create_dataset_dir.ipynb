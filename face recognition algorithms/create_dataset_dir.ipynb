{
 "cells": [
  {
   "cell_type": "code",
   "execution_count": null,
   "id": "fbff79d7",
   "metadata": {},
   "outputs": [],
   "source": [
    "import dlib\n",
    "import cv2\n",
    "import os\n",
    "import matplotlib.pyplot as plt\n",
    "import numpy as np"
   ]
  },
  {
   "cell_type": "code",
   "execution_count": null,
   "id": "c5db407f",
   "metadata": {},
   "outputs": [],
   "source": [
    "def get_faces_from_image_1(img):\n",
    "    \"\"\"Extract the faces from the image:\n",
    "        returns : list of faces , image with bounding box on faces\n",
    "        list of faces : are ready for input to the learning model just adjust the INPUT_SHAPE\n",
    "    \"\"\"\n",
    "    detector = dlib.cnn_face_detection_model_v1('./mmod_human_face_detector.dat')\n",
    "#     detector = dlib.get_frontal_face_detector()\n",
    "    gray_img = cv2.cvtColor(img, cv2.COLOR_BGR2GRAY)\n",
    "    faces = detector(gray_img)\n",
    "    cropped_faces = []\n",
    "    take = 7  # increase the size of the bounding box\n",
    "    for face in faces:\n",
    "        cropped_faces.append(img[ face.rect.top()-take :face.rect.bottom()+take, face.rect.left()-take:face.rect.right()+take , :].copy())\n",
    "    return cropped_faces\n",
    "\n",
    "def get_faces_from_image_2(img):\n",
    "    detector = dlib.get_frontal_face_detector()\n",
    "    gray_img = cv2.cvtColor(img, cv2.COLOR_BGR2GRAY)\n",
    "    faces = detector(gray_img)\n",
    "    cropped_faces = []\n",
    "    take = 7  # increase the size of the bounding box\n",
    "    for face in faces:\n",
    "        cropped_faces.append(img[ face.top()-take :face.bottom()+take, face.left()-take:face.right()+take , :].copy())\n",
    "    return cropped_faces"
   ]
  },
  {
   "cell_type": "code",
   "execution_count": null,
   "id": "1e2ca248",
   "metadata": {},
   "outputs": [],
   "source": [
    "data_dir = r\"E:\\semester 5\\mini project\\face recognition algorithms\\data\"\n",
    "names = dict([(v,k) for k,v in enumerate(os.listdir(data_dir))])"
   ]
  },
  {
   "cell_type": "code",
   "execution_count": null,
   "id": "071697ca",
   "metadata": {},
   "outputs": [],
   "source": [
    "names"
   ]
  },
  {
   "cell_type": "code",
   "execution_count": null,
   "id": "c3d9aac0",
   "metadata": {},
   "outputs": [],
   "source": [
    "X = []\n",
    "y = []\n",
    "for name,index in names.items():\n",
    "    for file in os.listdir(data_dir+'\\\\'+name):\n",
    "        img = cv2.imread(data_dir+'\\\\'+name+'\\\\'+file)\n",
    "        face = get_faces_from_image_2(img)\n",
    "        if (len(face)):\n",
    "            for f in face:\n",
    "                X.append(f)\n",
    "                y.append(index)"
   ]
  },
  {
   "cell_type": "code",
   "execution_count": null,
   "id": "c93b3154",
   "metadata": {
    "collapsed": true
   },
   "outputs": [],
   "source": [
    "ind = 0\n",
    "print(y[ind])\n",
    "plt.imshow(X[ind][:,:,::-1])"
   ]
  },
  {
   "cell_type": "code",
   "execution_count": null,
   "id": "125b10af",
   "metadata": {},
   "outputs": [],
   "source": [
    "target_dir = r\"E:\\semester 5\\mini project\\face recognition algorithms\\dataset\"\n",
    "os.makedirs(target_dir)"
   ]
  },
  {
   "cell_type": "code",
   "execution_count": null,
   "id": "6bf684d1",
   "metadata": {},
   "outputs": [],
   "source": [
    "for name in names.keys():\n",
    "    os.makedirs(target_dir+'\\\\'+name)"
   ]
  },
  {
   "cell_type": "code",
   "execution_count": null,
   "id": "8272d682",
   "metadata": {},
   "outputs": [],
   "source": [
    "target_dirs = [target_dir+'\\\\'+name for name in names]"
   ]
  },
  {
   "cell_type": "code",
   "execution_count": null,
   "id": "3002f71c",
   "metadata": {},
   "outputs": [],
   "source": [
    "rev_names = dict([(v,k) for k,v in names.items()])\n",
    "rev_names"
   ]
  },
  {
   "cell_type": "code",
   "execution_count": null,
   "id": "50a35e6d",
   "metadata": {
    "collapsed": true
   },
   "outputs": [],
   "source": [
    "for i in range(len(X)):    \n",
    "    if np.product(X[i].shape):\n",
    "        print(target_dirs[y[i]]+'\\\\'+str(i)+'.jpg')\n",
    "        cv2.imwrite(target_dirs[y[i]]+'\\\\'+str(i)+'.jpg', X[i])"
   ]
  },
  {
   "cell_type": "code",
   "execution_count": null,
   "id": "113a1a90",
   "metadata": {},
   "outputs": [],
   "source": []
  },
  {
   "cell_type": "code",
   "execution_count": null,
   "id": "84d8df92",
   "metadata": {},
   "outputs": [],
   "source": []
  }
 ],
 "metadata": {
  "kernelspec": {
   "display_name": "Python 3 (ipykernel)",
   "language": "python",
   "name": "python3"
  },
  "language_info": {
   "codemirror_mode": {
    "name": "ipython",
    "version": 3
   },
   "file_extension": ".py",
   "mimetype": "text/x-python",
   "name": "python",
   "nbconvert_exporter": "python",
   "pygments_lexer": "ipython3",
   "version": "3.9.13"
  }
 },
 "nbformat": 4,
 "nbformat_minor": 5
}
