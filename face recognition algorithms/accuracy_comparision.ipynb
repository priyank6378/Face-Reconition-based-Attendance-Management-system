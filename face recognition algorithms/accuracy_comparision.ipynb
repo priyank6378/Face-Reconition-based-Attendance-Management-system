{
 "cells": [
  {
   "cell_type": "code",
   "execution_count": 20,
   "id": "00c6fc91",
   "metadata": {},
   "outputs": [],
   "source": [
    "import numpy as np\n",
    "import cv2\n",
    "import os\n",
    "import dlib\n",
    "import matplotlib.pyplot as plt\n",
    "from sklearn.model_selection import train_test_split\n",
    "\n",
    "SIZE = (200,200)\n",
    "\n",
    "i = 0\n",
    "names = {}\n",
    "for p in os.listdir(base_dir):\n",
    "    names[p] = i\n",
    "    i+=1\n"
   ]
  },
  {
   "cell_type": "code",
   "execution_count": 21,
   "id": "1e4ab5e5",
   "metadata": {},
   "outputs": [
    {
     "data": {
      "text/plain": [
       "{'Hrishi': 0, 'Jenil': 1, 'saurabh': 2, 'Tomar': 3}"
      ]
     },
     "execution_count": 21,
     "metadata": {},
     "output_type": "execute_result"
    }
   ],
   "source": [
    "names"
   ]
  },
  {
   "cell_type": "code",
   "execution_count": 22,
   "id": "aea50ce0",
   "metadata": {},
   "outputs": [],
   "source": [
    "def preprocess_data(data, noise_remove=True, scaling=True):\n",
    "    # standard scaling\n",
    "    if scaling:\n",
    "        data = np.array(data)\n",
    "        mean = np.mean(data, axis=0)\n",
    "        std = np.std(data, axis=0)\n",
    "        data = (data-mean)/std\n",
    "        \n",
    "    # removing noise:\n",
    "    if noise_remove:\n",
    "        new_data = []\n",
    "        for i in data:\n",
    "            tmp = cv2.GaussianBlur(i,(3,3),0)\n",
    "#             tmp = cv2.bilateralFilter(tmp, 15,75,75)\n",
    "            new_data.append(tmp)\n",
    "    data = np.array(new_data)\n",
    "    \n",
    "    return data\n",
    "\n",
    "###################################\n",
    "def make_dataset():\n",
    "    base_dir = r\"E:\\semester 5\\mini project\\face recognition algorithms\\dataset\"\n",
    "    training_images_dir = [base_dir+'\\\\'+name for name in os.listdir(base_dir)]\n",
    "    names = {}\n",
    "    i = 0\n",
    "    for p in os.listdir(base_dir):\n",
    "        names[p] = i\n",
    "        i+=1\n",
    "    X = []\n",
    "    y = []\n",
    "    for person_dir in training_images_dir:\n",
    "        for img in os.listdir(person_dir):\n",
    "            image = cv2.imread(person_dir+'\\\\'+img)\n",
    "            image = cv2.cvtColor(image, cv2.COLOR_BGR2GRAY)\n",
    "            image = cv2.resize(image, SIZE, interpolation=cv2.INTER_LINEAR)\n",
    "            X.append(image)\n",
    "            y.append(names[person_dir.split('\\\\')[-1]])\n",
    "    data = np.array(X)\n",
    "    labels = np.array(y)\n",
    "    return data,labels\n",
    "\n",
    "###################################\n",
    "def get_faces_from_image_2(img):\n",
    "    detector = dlib.get_frontal_face_detector()\n",
    "    gray_img = cv2.cvtColor(img, cv2.COLOR_BGR2GRAY)\n",
    "    faces = detector(gray_img)\n",
    "    cropped_faces = []\n",
    "    take = 0  # increase the size of the bounding box\n",
    "    for face in faces:\n",
    "        cropped_faces.append(img[ face.top()-take :face.bottom()+take, face.left()-take:face.right()+take , :].copy())\n",
    "    return cropped_faces"
   ]
  },
  {
   "cell_type": "code",
   "execution_count": 23,
   "id": "8684c0fc",
   "metadata": {
    "scrolled": true
   },
   "outputs": [],
   "source": [
    "x,y = make_dataset()\n",
    "x_train ,x_test, y_train, y_test = train_test_split(x,y,test_size=0.10, random_state=60)\n",
    "x_train = preprocess_data(x_train)\n",
    "x_test = preprocess_data(x_test)"
   ]
  },
  {
   "cell_type": "code",
   "execution_count": 24,
   "id": "d9a7e406",
   "metadata": {},
   "outputs": [
    {
     "name": "stdout",
     "output_type": "stream",
     "text": [
      "fisherface accuracy:\n",
      "0.6363636363636364\n"
     ]
    }
   ],
   "source": [
    "# if 'FISHERFACE' not in os.listdir(r'E:\\semester 5\\mini project\\face recognition algorithms'):\n",
    "face_recognizer = cv2.face.FisherFaceRecognizer_create()\n",
    "face_recognizer.train(x_train,y_train)\n",
    "face_recognizer.write('FISHERFACE')\n",
    "\n",
    "# else :\n",
    "#     face_recognizer = cv2.face.FisherFaceRecognizer_create()\n",
    "#     face_recognizer.read('FISHERFACE')\n",
    "\n",
    "\n",
    "predictions = []\n",
    "for i in x_test:\n",
    "    predictions.append(face_recognizer.predict(i))\n",
    "\n",
    "predictions = np.array(predictions)\n",
    "y_test = np.array(y_test)\n",
    "accuracy = np.sum(np.abs(predictions[:, 0]==y_test))/len(predictions)\n",
    "print(\"fisherface accuracy:\")\n",
    "print(accuracy)"
   ]
  },
  {
   "cell_type": "code",
   "execution_count": 25,
   "id": "4d9f407c",
   "metadata": {},
   "outputs": [
    {
     "name": "stdout",
     "output_type": "stream",
     "text": [
      "eigenface accuracy:\n",
      "0.5454545454545454\n"
     ]
    }
   ],
   "source": [
    "\n",
    "# if 'EIGENFACE' not in os.listdir(r'E:\\semester 5\\mini project\\face recognition algorithms'):\n",
    "face_recognizer = cv2.face.EigenFaceRecognizer_create()\n",
    "face_recognizer.train(x_train,y_train)\n",
    "face_recognizer.write('EIGENFACE')\n",
    "\n",
    "# else :\n",
    "#     face_recognizer = cv2.face.EigenFaceRecognizer_create()\n",
    "#     face_recognizer.read('EIGENFACE')\n",
    "\n",
    "predictions = []\n",
    "for i in x_test:\n",
    "    predictions.append(face_recognizer.predict(i))\n",
    "\n",
    "predictions = np.array(predictions)\n",
    "y_test = np.array(y_test)\n",
    "accuracy = np.sum(np.abs(predictions[:, 0]==y_test))/len(predictions)\n",
    "print(\"eigenface accuracy:\")\n",
    "print(accuracy)"
   ]
  },
  {
   "cell_type": "code",
   "execution_count": 26,
   "id": "b7e5b7f8",
   "metadata": {},
   "outputs": [
    {
     "name": "stdout",
     "output_type": "stream",
     "text": [
      "lbph accuracy:\n",
      "0.9090909090909091\n"
     ]
    }
   ],
   "source": [
    "x,y = make_dataset()\n",
    "x_train ,x_test, y_train, y_test = train_test_split(x,y,test_size=0.10, random_state=60)\n",
    "x_train = preprocess_data(x_train, True, False)\n",
    "x_test = preprocess_data(x_test, True, False)\n",
    "\n",
    "# if 'LBPH' not in os.listdir(r'E:\\semester 5\\mini project\\face recognition algorithms'):\n",
    "face_recognizer = cv2.face.LBPHFaceRecognizer_create()\n",
    "face_recognizer.train(x_train,y_train)\n",
    "face_recognizer.write('LBPH')\n",
    "\n",
    "# else :\n",
    "#     face_recognizer = cv2.face.LBPHFaceRecognizer_create()\n",
    "#     face_recognizer.read('LBPH')\n",
    "\n",
    "# test_img = r\"E:\\semester 5\\mini project\\face recognition algorithms\\dataset\\Hrishi\\20.jpg\"\n",
    "# image = cv2.imread(test_img)\n",
    "# faces = get_faces_from_image_2(image)\n",
    "\n",
    "\n",
    "# if len(faces):\n",
    "#     index = 0\n",
    "#     # plt.imshow(faces[index][:,:,::-1])\n",
    "#     face = cv2.cvtColor(faces[index], cv2.COLOR_BGR2GRAY)\n",
    "#     face = cv2.resize(face, SIZE)\n",
    "#     plt.imshow(face,cmap='gray')\n",
    "#     prediction, confidence = face_recognizer.predict(face)\n",
    "#     print([k for k,v in names.items() if v==prediction])\n",
    "#     print(\"confidence :\", confidence)\n",
    "#     plt.show()\n",
    "\n",
    "predictions = []\n",
    "for i in x_test:\n",
    "    predictions.append(face_recognizer.predict(i))\n",
    "\n",
    "predictions = np.array(predictions)\n",
    "y_test = np.array(y_test)\n",
    "accuracy = np.sum(np.abs(predictions[:, 0]==y_test))/len(predictions)\n",
    "print(\"lbph accuracy:\")\n",
    "print(accuracy)"
   ]
  },
  {
   "cell_type": "code",
   "execution_count": 27,
   "id": "90df34cc",
   "metadata": {},
   "outputs": [
    {
     "name": "stdout",
     "output_type": "stream",
     "text": [
      "['Tomar']\n"
     ]
    }
   ],
   "source": [
    "img = cv2.imread(r\"E:\\semester 5\\mini project\\face recognition algorithms\\dataset\\Tomar\\111.jpg\")\n",
    "img = cv2.cvtColor(img, cv2.COLOR_BGR2GRAY)\n",
    "print([k for k,v in names.items() if v==face_recognizer.predict(img)[0]])"
   ]
  },
  {
   "cell_type": "code",
   "execution_count": null,
   "id": "b858da4f",
   "metadata": {},
   "outputs": [],
   "source": []
  }
 ],
 "metadata": {
  "kernelspec": {
   "display_name": "Python 3 (ipykernel)",
   "language": "python",
   "name": "python3"
  },
  "language_info": {
   "codemirror_mode": {
    "name": "ipython",
    "version": 3
   },
   "file_extension": ".py",
   "mimetype": "text/x-python",
   "name": "python",
   "nbconvert_exporter": "python",
   "pygments_lexer": "ipython3",
   "version": "3.9.13"
  }
 },
 "nbformat": 4,
 "nbformat_minor": 5
}
